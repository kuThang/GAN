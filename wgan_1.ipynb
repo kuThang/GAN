{
 "cells": [
  {
   "cell_type": "markdown",
   "metadata": {
    "colab_type": "text",
    "id": "qtaN83chSJBW"
   },
   "source": [
    "## W-GAN\n",
    "- replace binary_crossentropy loss by wassserstein loss \n",
    "- clip kernel of discriminator by ClipConstraint"
   ]
  },
  {
   "cell_type": "code",
   "execution_count": 0,
   "metadata": {
    "colab": {},
    "colab_type": "code",
    "id": "I_6jA30s-9zv"
   },
   "outputs": [],
   "source": [
    "import os\n",
    "import shutil\n",
    "from sklearn.utils import shuffle\n",
    "import numpy as np\n",
    "import json\n",
    "import cv2\n",
    "import matplotlib.pyplot as plt"
   ]
  },
  {
   "cell_type": "code",
   "execution_count": 2,
   "metadata": {
    "colab": {
     "base_uri": "https://localhost:8080/",
     "height": 34
    },
    "colab_type": "code",
    "id": "qxEp74TLLp06",
    "outputId": "154147e7-3a83-4dd7-b29d-119d7b8623e8"
   },
   "outputs": [
    {
     "name": "stderr",
     "output_type": "stream",
     "text": [
      "Using TensorFlow backend.\n"
     ]
    }
   ],
   "source": [
    "\n",
    "import tensorflow as tf\n",
    "from keras.models import Model, Sequential\n",
    "from keras.utils.np_utils import to_categorical\n",
    "from keras.layers import *\n",
    "from keras import backend as K\n",
    "from keras.applications.mobilenet_v2 import MobileNetV2\n",
    "from keras.applications import ResNet50, VGG19, InceptionResNetV2, InceptionV3, DenseNet201\n",
    "from keras.applications.xception import Xception\n",
    "from keras.callbacks import *\n",
    "from keras.optimizers import Adam\n",
    "from keras.preprocessing.image import ImageDataGenerator\n",
    "import re\n",
    "from keras.datasets import mnist\n",
    "\n",
    "from IPython import display"
   ]
  },
  {
   "cell_type": "markdown",
   "metadata": {
    "colab_type": "text",
    "id": "HaFp7BMBLuQJ"
   },
   "source": [
    "### UTILs"
   ]
  },
  {
   "cell_type": "code",
   "execution_count": 0,
   "metadata": {
    "colab": {},
    "colab_type": "code",
    "id": "NrI5aaUgR6OD"
   },
   "outputs": [],
   "source": [
    "def wassersteinLoss(y_true, y_pred):\n",
    "    return K.mean(y_true * y_pred)"
   ]
  },
  {
   "cell_type": "code",
   "execution_count": 0,
   "metadata": {
    "colab": {},
    "colab_type": "code",
    "id": "oLsXfcHCR5UA"
   },
   "outputs": [],
   "source": [
    "from keras.constraints import Constraint\n",
    "class ClipConstraint(Constraint):\n",
    "    def __init__(self, clip_value):\n",
    "        self.clip_value = clip_value\n",
    "    def __call__(self, weights):\n",
    "        return K.clip(weights, -self.clip_value, self.clip_value)\n",
    "    def get_config(self):\n",
    "        return {'clip_value': self.clip_value}"
   ]
  },
  {
   "cell_type": "code",
   "execution_count": 0,
   "metadata": {
    "colab": {},
    "colab_type": "code",
    "id": "de8wHW06L2Kk"
   },
   "outputs": [],
   "source": [
    "def sample_images(folder, generator, z, ep, image_grid_rows=4, image_grid_columns=4):\n",
    "    gen_imgs = generator.predict(z)\n",
    "    gen_imgs = 0.5 * gen_imgs + 0.5\n",
    "\n",
    "    fig, axs = plt.subplots(image_grid_rows,\n",
    "                            image_grid_columns,\n",
    "                            figsize=(4, 4),\n",
    "                            sharey=True,\n",
    "                            sharex=True)\n",
    "    cnt = 0\n",
    "    for i in range(image_grid_rows):\n",
    "        for j in range(image_grid_columns):\n",
    "            # Output a grid of images\n",
    "            axs[i, j].imshow(gen_imgs[cnt, :, :, 0], cmap='gray')\n",
    "            axs[i, j].axis('off')\n",
    "            cnt += 1\n",
    "\n",
    "    if not os.path.exists(folder):\n",
    "        os.mkdir(folder)\n",
    "\n",
    "    img_name = 'image_at_epoch_{}.png'.format(ep+1)\n",
    "#   plt.savefig(img_name)\n",
    "#   shutil.move(img_name, os.path.join(os.getcwd(), folder))\n",
    "    plt.show()"
   ]
  },
  {
   "cell_type": "markdown",
   "metadata": {
    "colab_type": "text",
    "id": "UKPRC8voMvvb"
   },
   "source": [
    "### build Generator and Discriminator"
   ]
  },
  {
   "cell_type": "code",
   "execution_count": 0,
   "metadata": {
    "colab": {},
    "colab_type": "code",
    "id": "imQuFpLfMrCj"
   },
   "outputs": [],
   "source": [
    "from keras.layers.advanced_activations import LeakyReLU\n",
    "def build_dcgan_generator(img_shape, z_dim, ker=3, useRelu=False):\n",
    "    model = Sequential()\n",
    "    model.add(Dense(7*7*256, input_dim=z_dim))\n",
    "    model.add(Reshape((7,7,256)))\n",
    "    # 7x7x256 -> 14x14x128\n",
    "    model.add(Conv2DTranspose(128, kernel_size=ker, strides=2, padding='same'))\n",
    "    model.add(BatchNormalization())\n",
    "    if useRelu:\n",
    "        model.add(ReLU())\n",
    "    else:\n",
    "        model.add(LeakyReLU(alpha=0.01))\n",
    "  \n",
    "    # 14x14x128 -> 14x14x64\n",
    "    model.add(Conv2DTranspose(64, kernel_size=ker, strides=1, padding='same'))\n",
    "    model.add(BatchNormalization())\n",
    "    if useRelu:\n",
    "        model.add(ReLU())\n",
    "    else:\n",
    "        model.add(LeakyReLU(alpha=0.01))\n",
    "  \n",
    "    # 14x14x64 -> 28x28x1\n",
    "    model.add(Conv2DTranspose(1, kernel_size=ker, strides=2, padding='same'))\n",
    "    model.add(Activation('tanh'))\n",
    "  \n",
    "    return model"
   ]
  },
  {
   "cell_type": "code",
   "execution_count": 0,
   "metadata": {
    "colab": {},
    "colab_type": "code",
    "id": "k0bOaM0FL2pQ"
   },
   "outputs": [],
   "source": [
    "from keras.optimizers import RMSprop\n",
    "def build_dcgan_discriminator(img_shape, ker=3):\n",
    "    model = Sequential()\n",
    "    const = ClipConstraint(0.01)\n",
    "    # 28x28x1 -> 14x14x32\n",
    "    model.add(Conv2D(32, kernel_size=ker, strides=2, padding='same', kernel_constraint=const, input_shape=img_shape))\n",
    "    model.add(LeakyReLU(alpha=0.01))\n",
    "\n",
    "    # 14x14x32 -> 7x7x64\n",
    "    model.add(Conv2D(64, kernel_size=ker, strides=2, padding='same', kernel_constraint=const))\n",
    "    model.add(BatchNormalization())\n",
    "    model.add(LeakyReLU(alpha=0.01))\n",
    "\n",
    "    # 7x7x64 -> 3x3x128\n",
    "    model.add(Conv2D(128, kernel_size=ker, strides=2, padding='same', kernel_constraint=const))\n",
    "    model.add(BatchNormalization())\n",
    "    model.add(LeakyReLU(alpha=0.01))\n",
    "\n",
    "    model.add(Flatten())\n",
    "    model.add(Dense(1, activation='linear')) # or model.add(Dense(1))\n",
    "    opt = RMSprop(lr=0.00005)\n",
    "    model.compile(loss=wassersteinLoss, optimizer=opt)\n",
    "    return model"
   ]
  },
  {
   "cell_type": "markdown",
   "metadata": {
    "colab_type": "text",
    "id": "aacH2tKRMpan"
   },
   "source": [
    "### Build GAN"
   ]
  },
  {
   "cell_type": "code",
   "execution_count": 0,
   "metadata": {
    "colab": {},
    "colab_type": "code",
    "id": "H-poaKYNMny0"
   },
   "outputs": [],
   "source": [
    "def build_wgan(generator, discriminator):\n",
    "    discriminator.trainable = False\n",
    "    model = Sequential()\n",
    "    model.add(generator)\n",
    "    model.add(discriminator)\n",
    "    opt = RMSprop(lr=0.00005)\n",
    "    model.compile(loss=wassersteinLoss, optimizer=opt)\n",
    "    return model"
   ]
  },
  {
   "cell_type": "code",
   "execution_count": 0,
   "metadata": {
    "colab": {},
    "colab_type": "code",
    "id": "H2jd8VaLN1x4"
   },
   "outputs": [],
   "source": [
    "def train_wgan(model_name, generator, discriminator, interations, batch_size, sample_interval):\n",
    "#     random_z_for_generator = np.random.normal(0, 1, (batch_size, 100))\n",
    "    losses = []\n",
    "    accuracies = []\n",
    "    iteration_checkpoints = []\n",
    "    (X_train, _), (_, _) = mnist.load_data()\n",
    "    X_train = X_train / 127.5 - 1\n",
    "    X_train = np.expand_dims(X_train, axis=3)\n",
    "    real = - np.ones((batch_size, 1))\n",
    "    fake =  np.ones((batch_size, 1))\n",
    "\n",
    "    wgan = build_wgan(generator, discriminator)\n",
    "    \n",
    "    for iteration in range(interations):\n",
    "        # train discriminator\n",
    "        idx = np.random.randint(0, X_train.shape[0], batch_size)\n",
    "        imgs = X_train[idx]\n",
    "\n",
    "        z = np.random.normal(0, 1, (batch_size, 100))\n",
    "        gen_imgs = generator.predict(z)\n",
    "\n",
    "        d_loss_real = discriminator.train_on_batch(imgs, real)\n",
    "        d_loss_fake = discriminator.train_on_batch(gen_imgs, fake)\n",
    "        d_loss = np.mean([d_loss_real, d_loss_fake])\n",
    "#         d_loss, accuracy = 0.5 * np.add(d_loss_real, d_loss_fake)\n",
    "\n",
    "        # train generator\n",
    "        z = np.random.normal(0, 1, (batch_size, 100))\n",
    "        g_loss = wgan.train_on_batch(z, real)\n",
    "\n",
    "        if(iteration + 1) % sample_interval == 0:\n",
    "            losses.append((d_loss, g_loss))\n",
    "#             accuracies.append(100.0 * accuracy)\n",
    "            iteration_checkpoints.append(iteration+1)\n",
    "\n",
    "#             print(\"%d [D loss: %f, acc.: %.2f%%] [G loss: %f]\" %\n",
    "#                       (iteration + 1, d_loss, 100.0 * accuracy, g_loss))\n",
    "            #       display.clear_output(wait=True)\n",
    "            sample_images(model_name, generator, random_z_for_generator,iteration)"
   ]
  },
  {
   "cell_type": "markdown",
   "metadata": {
    "colab_type": "text",
    "id": "vutd9AYEVGNQ"
   },
   "source": [
    "### TEST"
   ]
  },
  {
   "cell_type": "code",
   "execution_count": 0,
   "metadata": {
    "colab": {},
    "colab_type": "code",
    "id": "Shz9SIfzPGrw"
   },
   "outputs": [],
   "source": [
    "random_z_for_generator = np.random.normal(0, 1, (4 * 4, 100))"
   ]
  },
  {
   "cell_type": "code",
   "execution_count": 0,
   "metadata": {
    "colab": {},
    "colab_type": "code",
    "id": "6YABZB1LVFtM"
   },
   "outputs": [],
   "source": [
    "z_dim, img_shape = 100, (28,28,1)\n",
    "iterations = 100000\n",
    "batch_size = 128\n",
    "sample_interval = 10000"
   ]
  },
  {
   "cell_type": "code",
   "execution_count": 0,
   "metadata": {
    "colab": {},
    "colab_type": "code",
    "id": "u80HSoQ6VJls"
   },
   "outputs": [],
   "source": [
    "generator = build_dcgan_generator(img_shape, z_dim, ker=5, useRelu=True)\n",
    "discriminator = build_dcgan_discriminator(img_shape, ker=5)"
   ]
  },
  {
   "cell_type": "code",
   "execution_count": 0,
   "metadata": {
    "colab": {
     "base_uri": "https://localhost:8080/",
     "height": 356
    },
    "colab_type": "code",
    "id": "EhS3QB4uVMme",
    "outputId": "1976bfb4-d684-42e0-a783-5f866e8b7af4"
   },
   "outputs": [
    {
     "name": "stderr",
     "output_type": "stream",
     "text": [
      "/usr/local/lib/python3.6/dist-packages/keras/engine/training.py:490: UserWarning: Discrepancy between trainable weights and collected trainable weights, did you set `model.trainable` without calling `model.compile` after ?\n",
      "  'Discrepancy between trainable weights and collected trainable'\n",
      "/usr/local/lib/python3.6/dist-packages/keras/engine/training.py:490: UserWarning: Discrepancy between trainable weights and collected trainable weights, did you set `model.trainable` without calling `model.compile` after ?\n",
      "  'Discrepancy between trainable weights and collected trainable'\n"
     ]
    },
    {
     "data": {
      "image/png": "[encoded data removed]",
      "text/plain": [
       "<Figure size 288x288 with 16 Axes>"
      ]
     },
     "metadata": {
      "tags": []
     },
     "output_type": "display_data"
    }
   ],
   "source": [
    "train_wgan('wgan', generator, discriminator, iterations, batch_size, sample_interval)"
   ]
  },
  {
   "cell_type": "code",
   "execution_count": 0,
   "metadata": {
    "colab": {},
    "colab_type": "code",
    "id": "R6wtGNYmVPof"
   },
   "outputs": [],
   "source": []
  }
 ],
 "metadata": {
  "accelerator": "GPU",
  "colab": {
   "collapsed_sections": [],
   "name": "wgan_1",
   "provenance": [],
   "version": "0.3.2"
  },
  "kernelspec": {
   "display_name": "Python 3",
   "language": "python",
   "name": "python3"
  },
  "language_info": {
   "codemirror_mode": {
    "name": "ipython",
    "version": 3
   },
   "file_extension": ".py",
   "mimetype": "text/x-python",
   "name": "python",
   "nbconvert_exporter": "python",
   "pygments_lexer": "ipython3",
   "version": "3.6.5"
  }
 },
 "nbformat": 4,
 "nbformat_minor": 1
}
